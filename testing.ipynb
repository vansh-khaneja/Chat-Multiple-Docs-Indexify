{
 "cells": [
  {
   "cell_type": "code",
   "execution_count": 3,
   "id": "bbe7fbeb-1f7a-4118-9314-6f76008c5281",
   "metadata": {},
   "outputs": [],
   "source": [
    "from indexify import IndexifyClient, ExtractionGraph\n",
    "client = IndexifyClient()"
   ]
  },
  {
   "cell_type": "code",
   "execution_count": null,
   "id": "587fb059-9ae3-47e7-8db5-f89303eaff39",
   "metadata": {},
   "outputs": [],
   "source": [
    "extraction_graph_spec = \"\"\"\n",
    "name: 'testing'\n",
    "extraction_policies:\n",
    "   - extractor: 'tensorlake/chunk-extractor'\n",
    "     name: 'chunker'\n",
    "     input_params:\n",
    "        chunk_size: 1000\n",
    "        overlap: 100\n",
    "   - extractor: 'tensorlake/minilm-l6'\n",
    "     name: 'embeddings'\n",
    "     content_source: 'chunker'\n",
    "\"\"\"\n",
    "\n",
    "extraction_graph = ExtractionGraph.from_yaml(extraction_graph_spec)\n",
    "client.create_extraction_graph(extraction_graph)                                            "
   ]
  },
  {
   "cell_type": "code",
   "execution_count": null,
   "id": "578d722c-599f-4fff-8829-968da0c47984",
   "metadata": {},
   "outputs": [],
   "source": [
    "from langchain.document_loaders import PyPDFLoader\n",
    "\n",
    "doc_list = [\"sample.pdf\"]\n",
    "\n",
    "for doc_name in doc_list:\n",
    "#loader = PyPDFLoader(\"notes_chapter_Introduction.pdf\"), \n",
    "    pdf_loader = PyPDFLoader(file_path=doc_name)\n",
    "    documents = pdf_loader.load()\n",
    "\n",
    "#data = loader.load()\n",
    "\n",
    "#print(len(loader))\n",
    "\n",
    "    for doc in documents:\n",
    "        print(doc.page_content)\n",
    "        content_id = client.add_documents(\"testing\", doc.page_content)\n",
    "        client.wait_for_extraction(content_id)\n",
    "\n",
    "\n"
   ]
  },
  {
   "cell_type": "code",
   "execution_count": 1,
   "id": "1d9ac69b-7309-4608-841a-c4d5753a7140",
   "metadata": {},
   "outputs": [],
   "source": [
    "import dspy\n"
   ]
  },
  {
   "cell_type": "code",
   "execution_count": 84,
   "id": "6eb93fa3-a092-4b21-ace0-69fc420c34f0",
   "metadata": {},
   "outputs": [],
   "source": [
    "lm = dspy.OllamaLocal(model=\"llama3\",timeout_s = 180)\n"
   ]
  },
  {
   "cell_type": "code",
   "execution_count": 85,
   "id": "686cbf1d-9bbb-485f-9eb4-825fb5be06b8",
   "metadata": {},
   "outputs": [],
   "source": [
    "import dspy\n",
    "from indexify import IndexifyClient\n",
    "from indexify_dspy import retriever\n"
   ]
  },
  {
   "cell_type": "code",
   "execution_count": 86,
   "id": "6188fb53-e684-4859-929a-dd39c280d216",
   "metadata": {},
   "outputs": [],
   "source": [
    "index_name = \"testing.embeddings.embedding\""
   ]
  },
  {
   "cell_type": "code",
   "execution_count": 87,
   "id": "1ef3fd83-7c54-4a0c-aa98-ec6d82863b60",
   "metadata": {},
   "outputs": [],
   "source": [
    "indexify_client = IndexifyClient()\n",
    "indexify_retriever_model = retriever.IndexifyRM(index_name,indexify_client)\n",
    "\n",
    "dspy.settings.configure(lm=lm, rm=indexify_retriever_model)"
   ]
  },
  {
   "cell_type": "code",
   "execution_count": 95,
   "id": "0437100f-8e94-4343-816f-e4bafb9bf0b7",
   "metadata": {},
   "outputs": [],
   "source": [
    "indexify_client = IndexifyClient()\n",
    "indexify_retriever_model = retriever.IndexifyRM(index_name,indexify_client)\n",
    "\n",
    "dspy.settings.configure(lm=lm, rm=indexify_retriever_model)"
   ]
  },
  {
   "cell_type": "code",
   "execution_count": null,
   "id": "0b4bc4ea-5023-4b41-abb2-bdcf2dab6393",
   "metadata": {},
   "outputs": [],
   "source": [
    "def get_context(question):\n",
    "    retrieve = retriever.IndexifyRM(indexify_client)\n",
    "    context = retrieve(question, index_name, k=3).passages\n",
    "\n",
    "    return context"
   ]
  },
  {
   "cell_type": "code",
   "execution_count": 78,
   "id": "f658c891-2eb1-414c-a60e-d4b17e304cc9",
   "metadata": {},
   "outputs": [],
   "source": [
    "class GenerateAnswer(dspy.Signature):\n",
    "    \"\"\"Answer questions with factoid answers.\"\"\"\n",
    "\n",
    "    context = dspy.InputField(desc=\"may contain relevant facts\")\n",
    "    question = dspy.InputField()\n",
    "    answer = dspy.OutputField(desc=\"an explained answer\")"
   ]
  },
  {
   "cell_type": "code",
   "execution_count": 92,
   "id": "656e62bd-4440-48e0-ba98-724f48369680",
   "metadata": {},
   "outputs": [],
   "source": [
    "class RAG(dspy.Module):\n",
    "    def __init__(self, num_passages=3):\n",
    "        super().__init__()\n",
    "        self.retrieve = dspy.Retrieve(k=num_passages)\n",
    "        self.generate_answer = dspy.ChainOfThought(GenerateAnswer)\n",
    "\n",
    "    def forward(self, question):\n",
    "        \n",
    "        context = get_context(question)\n",
    "        prediction = self.generate_answer(context=context, question=question)\n",
    "        return dspy.Prediction(context=context, answer=prediction.answer)\n",
    "\n"
   ]
  },
  {
   "cell_type": "code",
   "execution_count": 93,
   "id": "ab925238-e75d-47d1-a6eb-c92274630ea1",
   "metadata": {},
   "outputs": [],
   "source": [
    "uncompiled_rag = RAG()\n"
   ]
  },
  {
   "cell_type": "code",
   "execution_count": 94,
   "id": "10d51635-912f-42ef-993a-ae8d3150c1ef",
   "metadata": {},
   "outputs": [
    {
     "name": "stdout",
     "output_type": "stream",
     "text": [
      "A prediction rule is a two-step process in machine learning used for making predictions. The first step is to \"fit\" or train a model to the data, where the model is a hypothesis or prediction rule y=h(x;θ) with parameters θ determined by the training data. The second step is to use the model to make predictions on new, un\n"
     ]
    }
   ],
   "source": [
    "my_question = \"what is prediction rule\"\n",
    "response = uncompiled_rag(my_question).answer\n",
    "print(response)"
   ]
  },
  {
   "cell_type": "code",
   "execution_count": null,
   "id": "c5f505fb-2e7c-433f-acfe-ecf034f26c38",
   "metadata": {},
   "outputs": [],
   "source": []
  },
  {
   "cell_type": "code",
   "execution_count": 88,
   "id": "7f69c4b5-550f-4e3d-9104-12716bc51add",
   "metadata": {},
   "outputs": [],
   "source": []
  },
  {
   "cell_type": "code",
   "execution_count": null,
   "id": "b9b96cac-01c1-4899-aab6-9bad6fe5f248",
   "metadata": {},
   "outputs": [],
   "source": []
  },
  {
   "cell_type": "code",
   "execution_count": null,
   "id": "d748ae9a-3112-47db-9d05-a2206d5c19f2",
   "metadata": {},
   "outputs": [],
   "source": []
  }
 ],
 "metadata": {
  "kernelspec": {
   "display_name": "Python 3 (ipykernel)",
   "language": "python",
   "name": "python3"
  },
  "language_info": {
   "codemirror_mode": {
    "name": "ipython",
    "version": 3
   },
   "file_extension": ".py",
   "mimetype": "text/x-python",
   "name": "python",
   "nbconvert_exporter": "python",
   "pygments_lexer": "ipython3",
   "version": "3.10.12"
  }
 },
 "nbformat": 4,
 "nbformat_minor": 5
}
